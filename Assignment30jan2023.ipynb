{
 "cells": [
  {
   "cell_type": "markdown",
   "id": "e2df4901-0d53-40e9-9841-c0db9117d11c",
   "metadata": {},
   "source": [
    "# Assignment for 30 jan.2023"
   ]
  },
  {
   "cell_type": "code",
   "execution_count": null,
   "id": "b227b29b-62ae-4e53-87b0-c575a24db604",
   "metadata": {},
   "outputs": [],
   "source": [
    " Q.1 Who developed python programming language ?\n",
    "Answer : Guido van Rossum."
   ]
  },
  {
   "cell_type": "code",
   "execution_count": null,
   "id": "a1b3f617-328b-4554-a533-5892221e8109",
   "metadata": {},
   "outputs": [],
   "source": [
    "Q.3 Which type of programming does python support ?\n",
    "Answer : python is a multi-paradigm programming language.object-oriented programming and structured programming are fully supported and many of their \n",
    "features support functional programming and aspect-oriented programming."
   ]
  },
  {
   "cell_type": "code",
   "execution_count": null,
   "id": "31ab61fd-ee5e-4a3b-9e4c-86ff12544f17",
   "metadata": {},
   "outputs": [],
   "source": [
    "Q.3 Is python case sensitive when dealing with identifiers ?\n",
    "Answer : yes,python is a case-sensitive language,i.e.,it treats uppercase and lowercase characters differently.this applies to identifiers too.you most\n",
    "avoid using the same name with different case while naming identifiers."
   ]
  },
  {
   "cell_type": "code",
   "execution_count": null,
   "id": "0b99da63-1771-4ebd-8406-9513b842310b",
   "metadata": {},
   "outputs": [],
   "source": [
    "Q.4 What is the correct extension of the python file ?\n",
    "Answer : python is a widely used programming or coding language used for different purpose.the extensions for python file are -.py,.pyi,.pyc,.pyd,.pyo,\n",
    "pyw,and .pyz."
   ]
  },
  {
   "cell_type": "code",
   "execution_count": null,
   "id": "c6e8b185-063e-4358-aac3-86ad975eea46",
   "metadata": {},
   "outputs": [],
   "source": [
    "Q.5 Is python code compiled or interpreted ?\n",
    "Answer : python is an interpreted language.which means the soures code of python program is converted into bytecode that is then executed by the \n",
    "python virtual machine."
   ]
  },
  {
   "cell_type": "code",
   "execution_count": null,
   "id": "c6d8c196-b19e-4d74-995c-ee6eb059b12e",
   "metadata": {},
   "outputs": [],
   "source": [
    "Q.6 Name a few blocked of  code used to define in python language ?\n",
    "Answer : a python program is constructed from code blocks.a block is a piece of python program text that is exeucuted as a unit.the following are \n",
    "blocks:a module a function body and a class defination."
   ]
  },
  {
   "cell_type": "code",
   "execution_count": null,
   "id": "f23023db-d8e3-458c-8616-cb551df4277a",
   "metadata": {},
   "outputs": [],
   "source": [
    "Q.7 State a character used to give single-line comments in python ?\n",
    "Answer : def main():\n",
    "    print(\"This is a comment\")"
   ]
  },
  {
   "cell_type": "code",
   "execution_count": null,
   "id": "5df379ae-9f9d-4410-922a-de5c70dab557",
   "metadata": {},
   "outputs": [],
   "source": [
    "Q.8 Mention function can help us to find the version of python that we are currently working on ?\n",
    "Answer : No, the __version__ attribute is not a built-in attribute of Python functions, so it cannot be used to determine the version of\n",
    "Python you are using.\n",
    "\n",
    "However, you can use the sys module to determine the version of Python you are using. Here's an example:\n",
    "import sys\n",
    "print(\"Python version:\", sys.version)    "
   ]
  },
  {
   "cell_type": "code",
   "execution_count": null,
   "id": "ab1d1f9d-3efc-4d24-9294-1fa59cd8a18b",
   "metadata": {},
   "outputs": [],
   "source": [
    "Q.9 Python supports the creation of anongmous function at runtime,using a construct called______\n",
    "Answer : Python supports the creation of anonymous functions at runtime using a construct called \"lambda\".\n",
    "\n",
    "The lambda keyword is used to create small, anonymous functions. The syntax for a lambda function is:\n",
    "\n",
    "lambda arguments: expression\n",
    "\n",
    "Here, arguments are the arguments passed to the function, and expression is the result of the function. Lambda functions are commonly used for short,\n",
    "simple operations that can be defined in a single line of code."
   ]
  },
  {
   "cell_type": "code",
   "execution_count": null,
   "id": "c7e08e1e-e2c4-4058-89ac-2e7be8f834cc",
   "metadata": {},
   "outputs": [],
   "source": [
    "Q.10 What does pip stand for python ?\n",
    "Answer : pip stands for \"Pip Installs Packages\" or \"Pip Installs Python\" (depending on the source).\n",
    "\n",
    "Pip is the package installer for Python, and it is used to install and manage packages (libraries) that are not part of the Python standard library.\n",
    "Pip makes it easy to install and manage external packages, as it automatically resolves dependencies and installs the required packages. \n",
    "Pip also provides a simple command-line interface for managing packages, such as installing, upgrading, and uninstalling packages."
   ]
  },
  {
   "cell_type": "code",
   "execution_count": null,
   "id": "5212b7eb-10da-4993-9745-ee8d5ad1fb58",
   "metadata": {},
   "outputs": [],
   "source": [
    "Q.11 Mention a few built-in function in python ?\n",
    "Answer : Here are some commonly used built-in functions in Python:\n",
    "\n",
    "print() - prints the specified message to the console\n",
    "input() - prompts the user to enter some input\n",
    "type() - returns the data type of a given variable or object\n",
    "len() - returns the length of a string, list, or other iterable object\n",
    "str() - converts a value into a string data type\n",
    "int() - converts a value into an integer data type\n",
    "float() - converts a value into a float data type\n",
    "range() - generates a sequence of numbers within a given range\n",
    "list() - creates a new list from an iterable object\n",
    "dict() - creates a new dictionary object\n",
    "These are just a few of the built-in functions in Python. There are many more that you can explore in the Python documentation."
   ]
  },
  {
   "cell_type": "code",
   "execution_count": null,
   "id": "b719d736-5104-45cc-970d-4828e46d7e44",
   "metadata": {},
   "outputs": [],
   "source": [
    "Q.12 What is the maximum possible length of an identifier in python ?\n",
    "Answer : In Python, the maximum length of an identifier (variable name, function name, class name, etc.) is not explicitly defined. However, \n",
    "it is recommended to keep the identifier names reasonably short and descriptive, typically between 1 to 79 characters in length.\n",
    "\n",
    "Technically, an identifier in Python can be of any length as long as it meets the following rules:\n",
    "\n",
    "It can only contain alphanumeric characters (a-z, A-Z, 0-9) and underscores (_).\n",
    "It cannot start with a number.\n",
    "It is case-sensitive, meaning that \"myVar\" and \"myvar\" are two different identifiers.\n",
    "In general, it is good practice to keep identifiers short and meaningful to make the code more readable and understandable."
   ]
  },
  {
   "cell_type": "code",
   "execution_count": null,
   "id": "062b84cb-13dc-4c90-87ac-af38ce95032f",
   "metadata": {},
   "outputs": [],
   "source": [
    "Q.13 What are the benefits of using python ?\n",
    "Answer : Python is a high-level programming language that offers many benefits, including:\n",
    "\n",
    "Easy to Learn and Use: Python has a simple and intuitive syntax that is easy to learn and understand, making it an excellent choice for beginners.\n",
    "\n",
    "Large Community and Support: Python has a large and active community of developers, which means that there are plenty of resources and \n",
    "support available online, including documentation, tutorials, and forums.\n",
    "\n",
    "Versatile: Python can be used for a wide range of applications, including web development, data analysis, machine learning, artificial intelligence, \n",
    "scientific computing, and more.\n",
    "\n",
    "Cross-Platform Compatibility: Python code can run on different platforms and operating systems, including Windows, Linux, and Mac, without the need for\n",
    "any changes.\n",
    "\n",
    "Libraries and Frameworks: Python has a vast collection of libraries and frameworks that can be used to simplify and accelerate development,\n",
    "such as NumPy, Pandas, Django, Flask, and many others.\n",
    "\n",
    "Rapid Prototyping: Python allows developers to quickly prototype and test their ideas, which can significantly speed up the development process.\n",
    "\n",
    "Scalability: Python can be used to build scalable applications that can handle large amounts of data and traffic.\n",
    "\n",
    "Overall, Python is a powerful and flexible language that is easy to learn and use, making it an excellent choice for a wide range of applications and\n",
    "industries."
   ]
  },
  {
   "cell_type": "code",
   "execution_count": null,
   "id": "7417f471-34d5-438d-a6f8-1aa560d46b80",
   "metadata": {},
   "outputs": [],
   "source": [
    "Q.14 How is memory managed in python ?\n",
    "Answer : In Python, memory management is handled automatically through a process called \"garbage collection\". \n",
    "This means that the programmer does not have"
   ]
  },
  {
   "cell_type": "code",
   "execution_count": null,
   "id": "f885da25-362d-48fb-921c-c68fe699b71b",
   "metadata": {},
   "outputs": [],
   "source": [
    "Q.15 How to install python on windows and set path variables ?\n",
    "Answer : To install Python on Windows and set path variables, you can follow these steps:\n",
    "\n",
    "Download the latest version of Python from the official website: https://www.python.org/downloads/windows/\n",
    "\n",
    "Run the installer and follow the prompts to install Python. Make sure to select the option to add Python to the system path during the\n",
    "installation process.\n",
    "\n",
    "Once Python is installed, open the Start menu and search for \"Environment Variables.\"\n",
    "\n",
    "Click on \"Edit the system environment variables.\"\n",
    "\n",
    "Click on the \"Environment Variables\" button.\n",
    "\n",
    "Under \"System variables,\" scroll down and find the \"Path\" variable, then click \"Edit.\"\n",
    "\n",
    "Click \"New\" and add the path to the Python installation directory. By default, this is \"C:\\PythonXX\" where \"XX\" is the version number\n",
    "(e.g., \"C:\\Python39\").\n",
    "\n",
    "Click \"OK\" to close all windows and apply the changes.\n",
    "\n",
    "Open a new command prompt window and type \"python\" to verify that Python is installed and configured correctly.\n",
    "You should see the Python version number and the Python prompt.\n",
    "\n",
    "That's it! Now you can start using Python on your Windows machine."
   ]
  },
  {
   "cell_type": "code",
   "execution_count": null,
   "id": "04f7820d-b86d-4c1f-9453-14ad8aed5106",
   "metadata": {},
   "outputs": [],
   "source": [
    "Q.16 Is indentation required in python ?\n",
    "Answer : Yes, indentation is required in Python. In Python, indentation is used to define blocks of code, such as loops, functions,\n",
    "and classes. Unlike other programming languages that use braces or keywords to define code blocks,\n",
    "Python uses whitespace indentation to delimit blocks of code.\n",
    "\n",
    "Indentation is critical in Python because it determines the scope of statements and controls the flow of the program. \n",
    "Improper indentation can lead to syntax errors, logical errors, and unexpected behavior.\n",
    "\n",
    "For example, consider the following code:\n",
    "if x > 10:\n",
    "print(\"x is greater than 10\")\n",
    "\n",
    "Without proper indentation, this code will produce a syntax error because the print statement is not properly indented to be inside the if block.\n",
    "if x > 10:\n",
    "    print(\"x is greater than 10\")\n",
    "    \n",
    "    \n",
    "    \n",
    "\n",
    "\n"
   ]
  }
 ],
 "metadata": {
  "kernelspec": {
   "display_name": "Python 3 (ipykernel)",
   "language": "python",
   "name": "python3"
  },
  "language_info": {
   "codemirror_mode": {
    "name": "ipython",
    "version": 3
   },
   "file_extension": ".py",
   "mimetype": "text/x-python",
   "name": "python",
   "nbconvert_exporter": "python",
   "pygments_lexer": "ipython3",
   "version": "3.10.8"
  }
 },
 "nbformat": 4,
 "nbformat_minor": 5
}
